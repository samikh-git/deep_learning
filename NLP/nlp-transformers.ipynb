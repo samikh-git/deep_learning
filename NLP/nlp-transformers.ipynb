{
 "cells": [
  {
   "cell_type": "code",
   "execution_count": null,
   "id": "9df375ea",
   "metadata": {},
   "outputs": [],
   "source": [
    "! pip install transformers datasets huggingface-hub\n",
    "! pip install pandas\n",
    "! pip install numpy"
   ]
  },
  {
   "cell_type": "markdown",
   "id": "8a77807f92f26ee",
   "metadata": {},
   "source": [
    "# NLP - RNNs, Transformers, Hugging Face\n",
    "\n",
    "In this notebook, we will be understanding and delving more deeply into NLP. Currently, NLP is the most popular application of deep learning. All Large Language Models (LLMs) currently operate based on the transformer architecture to provide generative capabilities.\n",
    "\n",
    "We will try to make a NLP classification model that can identify Charles Dickens' writings.\n",
    "\n",
    "This notebook is based off of module 4 of Fast AI's on NLP."
   ]
  },
  {
   "cell_type": "markdown",
   "id": "951d672d0fa9baf4",
   "metadata": {},
   "source": [
    "### Language Models\n",
    "\n",
    "A language model is a model that is trained to predict the next word in a text based on the previous words. A language model uses something called self-supervised training to achieve this. Without external labels, it can find labels within the text it needs to evaluate. To achieve this, our language model needs to develop a certain understanding of the language. This means that for our applications, our language model needs to understand the English language, the French language, the German language, etc.\n",
    "\n",
    "An example of an application development process is the IMDb review classifier. We will use a language model that was trained on Wikipedia data. Unfortunately, this model might not be entirely suitable for IMDb review English. Wikipedia articles are usually written in a different style and format from an IMDb review. In order to get accurate classifications, we ought to fine-tune our model on IMDb English. From that fine-tuned model, we can then work on developing a classification model for IMDb movie reviews that will be very accurate.\n",
    "\n",
    "The preceding process is called the Universal Language Model Fine-Tuning Process (ULMFit).\n",
    "\n",
    "#### Recurrent Neural Networks - RNNs\n",
    "\n",
    "Recurrent Neural Networks (RNNS) are a type of neural network architecture trained on sequential or time series data that are used to make machine learning models that can make sequential predictions using previous sequence elements as inputs for the predictions. RNNs use a hidden state that helps keep track of previous inputs. This is the recurrent part of the RNN. \n",
    "\n",
    "RNNS use a encoder-decoder model. This model is best explained by the following image: \n",
    "\n",
    "![encoder/decoder model](./resources/encoder-decoder.png)\n",
    "\n",
    "For more information: \n",
    "- [IBM article](https://www.ibm.com/think/topics/recurrent-neural-networks)\n",
    "- [Blog post by Zhaozhen Xu](https://www.baeldung.com/cs/rnns-transformers-nlp)\n",
    "\n",
    "### Transformers\n",
    "\n",
    "Transformers are a type of neural network architecture that is very capable of processing natural language. Unlike RNNs, transformers do not use any recurrence or have hidden states. This means they do not operate sequentially (ie, they do not need to go through each input one at a time). They use something called self-attention. Self-attention allows the model to weigh the importance of different input tokens when making predictions. Transformers consist of encoder and decoder layers, employing multi-head self-attention mechanisms and feedback neural networks. Thanks to these features, they are able to parallelize their operations and are faster.\n",
    "\n",
    "Here is an image illustrating the transformer model.\n",
    "\n",
    "![transformer model](./resources/transformer.png)\n",
    "\n",
    "The transformer model was layed out in the 2017 seminal paper [*Attention Is All You Need*](./resources/attention.pdf)."
   ]
  },
  {
   "cell_type": "markdown",
   "id": "e434997b",
   "metadata": {},
   "source": [
    "### Tokenization and Numericalization\n",
    "\n",
    "Our neural networks need to take in numbers as their inputs. We need to convert our sentences into numbers, there are two steps: \n",
    "\n",
    "- *Tokenization*: we split text up into tokens\n",
    "- *Numericalization*: convert each token into a number\n",
    "\n",
    "This process is model dependent. Each model will have a tokenizer associated with it. We'll see when developing our Dickens classifier. We'll use the \"Deberta v3-small\" model developed by Microsoft. "
   ]
  },
  {
   "cell_type": "code",
   "execution_count": null,
   "id": "ceb2aed32b416c6",
   "metadata": {},
   "outputs": [],
   "source": [
    "model_nm = \"microsoft/deberta-v2-xlarge-mnli\""
   ]
  },
  {
   "cell_type": "markdown",
   "id": "b23c63a23ccc763e",
   "metadata": {},
   "source": [
    "```AutoTokenizer``` is a HuggingFace Transformers class that allows us to get our tokenizer function."
   ]
  },
  {
   "cell_type": "code",
   "execution_count": null,
   "id": "96b3f8c2",
   "metadata": {},
   "outputs": [],
   "source": [
    "from transformers import AutoModelForSequenceClassification,AutoTokenizer\n",
    "tokz = AutoTokenizer.from_pretrained('microsoft/deberta-v3-small')"
   ]
  },
  {
   "cell_type": "code",
   "execution_count": null,
   "id": "6f4088e2",
   "metadata": {},
   "outputs": [],
   "source": [
    "tokz.tokenize(\"Hi! I am Sami\")"
   ]
  },
  {
   "cell_type": "markdown",
   "id": "639e806d",
   "metadata": {},
   "source": [
    "### Our Dataset"
   ]
  },
  {
   "cell_type": "code",
   "execution_count": null,
   "id": "650030ef",
   "metadata": {},
   "outputs": [],
   "source": [
    "from datasets import load_dataset\n",
    "\n",
    "dickens_ds = load_dataset(\"GuillermoTBB/charles-dickens-text-classification\")\n",
    "dickens_ds"
   ]
  },
  {
   "cell_type": "code",
   "execution_count": null,
   "id": "cf088b23",
   "metadata": {},
   "outputs": [],
   "source": [
    "train, test = dickens_ds['train'], dickens_ds['test']"
   ]
  },
  {
   "cell_type": "code",
   "execution_count": null,
   "id": "4c387f36",
   "metadata": {},
   "outputs": [],
   "source": [
    "train_df = train.to_pandas()\n",
    "train_df"
   ]
  },
  {
   "cell_type": "code",
   "execution_count": null,
   "id": "98338d27",
   "metadata": {},
   "outputs": [],
   "source": [
    "def tok_func(ds):\n",
    "    return tokz(ds['text'])"
   ]
  },
  {
   "cell_type": "code",
   "execution_count": null,
   "id": "d337b4df",
   "metadata": {},
   "outputs": [],
   "source": [
    "tok_ds = train.map(tok_func, batched=True)\n",
    "tok_ds"
   ]
  },
  {
   "cell_type": "code",
   "execution_count": null,
   "id": "357473cd",
   "metadata": {},
   "outputs": [],
   "source": [
    "import numpy as np\n",
    "from numpy.random import normal, seed, uniform\n",
    "np.random.seed(42)\n",
    "\n",
    "dds = tok_ds.train_test_split(0.25, seed=42)\n",
    "dds"
   ]
  },
  {
   "cell_type": "markdown",
   "id": "3cebd22f",
   "metadata": {},
   "source": [
    "### Training our model"
   ]
  },
  {
   "cell_type": "code",
   "execution_count": null,
   "id": "69ea5c21",
   "metadata": {},
   "outputs": [],
   "source": [
    "from transformers import TrainingArguments, Trainer\n",
    "\n",
    "bs = 128\n",
    "epochs = 4\n",
    "learning_rate = 8e-5"
   ]
  },
  {
   "cell_type": "code",
   "execution_count": null,
   "id": "d610de9c",
   "metadata": {},
   "outputs": [],
   "source": [
    "args = TrainingArguments('outputs', \n",
    "                         learning_rate = learning_rate, \n",
    "                         warmup_ratio=0.1, \n",
    "                         lr_scheduler_type='cosine',\n",
    "                         fp16=False,\n",
    "                         eval_strategy='epoch', \n",
    "                         per_device_train_batch_size=bs, \n",
    "                         per_device_eval_batch_size=bs*2,\n",
    "                         num_train_epochs=epochs, \n",
    "                         weight_decay=0.01, \n",
    "                         report_to='none'\n",
    "      )"
   ]
  },
  {
   "cell_type": "markdown",
   "id": "36c6e503",
   "metadata": {},
   "source": [
    "#### Defining our metrics\n",
    "\n",
    "We need to define a function to evaluate our model."
   ]
  },
  {
   "cell_type": "code",
   "execution_count": null,
   "id": "ffa3af2c",
   "metadata": {},
   "outputs": [],
   "source": [
    "def accuracy(prediction, label):\n",
    "    return np.mean(prediction == label)"
   ]
  },
  {
   "cell_type": "code",
   "execution_count": null,
   "id": "dc7e8eca",
   "metadata": {},
   "outputs": [],
   "source": [
    "def metrics(dataset):\n",
    "    return {'accuracy': accuracy(*dataset)}"
   ]
  },
  {
   "cell_type": "markdown",
   "id": "b322aa60",
   "metadata": {},
   "source": [
    "#### Training our model\n",
    "\n",
    "The Transformers library provides some APIs to facilitate training."
   ]
  },
  {
   "cell_type": "code",
   "execution_count": null,
   "id": "94bce581",
   "metadata": {},
   "outputs": [],
   "source": [
    "\n",
    "model = AutoModelForSequenceClassification.from_pretrained(model_nm)\n",
    "\n",
    "trainer = Trainer(model=model,\n",
    "                  args=args,\n",
    "                  train_dataset=dds['train'],\n",
    "                  eval_dataset=dds['test'],\n",
    "                  tokenizer=tokz,\n",
    "                  compute_metrics=metrics\n",
    "                  )"
   ]
  },
  {
   "cell_type": "code",
   "execution_count": null,
   "id": "a09d8df4",
   "metadata": {},
   "outputs": [],
   "source": [
    "trainer.train()"
   ]
  },
  {
   "cell_type": "code",
   "execution_count": null,
   "id": "739f9389",
   "metadata": {},
   "outputs": [],
   "source": [
    "preds = trainer.predict(test)\n",
    "preds"
   ]
  }
 ],
 "metadata": {
  "kernelspec": {
   "display_name": "transformers",
   "language": "python",
   "name": "python3"
  },
  "language_info": {
   "codemirror_mode": {
    "name": "ipython",
    "version": 3
   },
   "file_extension": ".py",
   "mimetype": "text/x-python",
   "name": "python",
   "nbconvert_exporter": "python",
   "pygments_lexer": "ipython3",
   "version": "3.13.2"
  }
 },
 "nbformat": 4,
 "nbformat_minor": 5
}
