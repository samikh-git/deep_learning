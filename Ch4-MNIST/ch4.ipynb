{
 "cells": [
  {
   "cell_type": "code",
   "execution_count": 410,
   "id": "458a5373",
   "metadata": {},
   "outputs": [
    {
     "name": "stdout",
     "output_type": "stream",
     "text": [
      "Requirement already satisfied: torch in /opt/anaconda3/envs/jupyter/lib/python3.13/site-packages (2.7.0)\n",
      "Requirement already satisfied: torchvision in /opt/anaconda3/envs/jupyter/lib/python3.13/site-packages (0.22.0)\n",
      "Requirement already satisfied: filelock in /opt/anaconda3/envs/jupyter/lib/python3.13/site-packages (from torch) (3.18.0)\n",
      "Requirement already satisfied: typing-extensions>=4.10.0 in /opt/anaconda3/envs/jupyter/lib/python3.13/site-packages (from torch) (4.12.2)\n",
      "Requirement already satisfied: setuptools in /opt/anaconda3/envs/jupyter/lib/python3.13/site-packages (from torch) (78.1.1)\n",
      "Requirement already satisfied: sympy>=1.13.3 in /opt/anaconda3/envs/jupyter/lib/python3.13/site-packages (from torch) (1.14.0)\n",
      "Requirement already satisfied: networkx in /opt/anaconda3/envs/jupyter/lib/python3.13/site-packages (from torch) (3.4.2)\n",
      "Requirement already satisfied: jinja2 in /opt/anaconda3/envs/jupyter/lib/python3.13/site-packages (from torch) (3.1.6)\n",
      "Requirement already satisfied: fsspec in /opt/anaconda3/envs/jupyter/lib/python3.13/site-packages (from torch) (2025.3.0)\n",
      "Requirement already satisfied: numpy in /opt/anaconda3/envs/jupyter/lib/python3.13/site-packages (from torchvision) (2.2.6)\n",
      "Requirement already satisfied: pillow!=8.3.*,>=5.3.0 in /opt/anaconda3/envs/jupyter/lib/python3.13/site-packages (from torchvision) (11.2.1)\n",
      "Requirement already satisfied: mpmath<1.4,>=1.1.0 in /opt/anaconda3/envs/jupyter/lib/python3.13/site-packages (from sympy>=1.13.3->torch) (1.3.0)\n",
      "Requirement already satisfied: MarkupSafe>=2.0 in /opt/anaconda3/envs/jupyter/lib/python3.13/site-packages (from jinja2->torch) (3.0.2)\n",
      "Requirement already satisfied: datasets in /opt/anaconda3/envs/jupyter/lib/python3.13/site-packages (3.6.0)\n",
      "Requirement already satisfied: filelock in /opt/anaconda3/envs/jupyter/lib/python3.13/site-packages (from datasets) (3.18.0)\n",
      "Requirement already satisfied: numpy>=1.17 in /opt/anaconda3/envs/jupyter/lib/python3.13/site-packages (from datasets) (2.2.6)\n",
      "Requirement already satisfied: pyarrow>=15.0.0 in /opt/anaconda3/envs/jupyter/lib/python3.13/site-packages (from datasets) (20.0.0)\n",
      "Requirement already satisfied: dill<0.3.9,>=0.3.0 in /opt/anaconda3/envs/jupyter/lib/python3.13/site-packages (from datasets) (0.3.8)\n",
      "Requirement already satisfied: pandas in /opt/anaconda3/envs/jupyter/lib/python3.13/site-packages (from datasets) (2.2.3)\n",
      "Requirement already satisfied: requests>=2.32.2 in /opt/anaconda3/envs/jupyter/lib/python3.13/site-packages (from datasets) (2.32.3)\n",
      "Requirement already satisfied: tqdm>=4.66.3 in /opt/anaconda3/envs/jupyter/lib/python3.13/site-packages (from datasets) (4.67.1)\n",
      "Requirement already satisfied: xxhash in /opt/anaconda3/envs/jupyter/lib/python3.13/site-packages (from datasets) (3.5.0)\n",
      "Requirement already satisfied: multiprocess<0.70.17 in /opt/anaconda3/envs/jupyter/lib/python3.13/site-packages (from datasets) (0.70.16)\n",
      "Requirement already satisfied: fsspec<=2025.3.0,>=2023.1.0 in /opt/anaconda3/envs/jupyter/lib/python3.13/site-packages (from fsspec[http]<=2025.3.0,>=2023.1.0->datasets) (2025.3.0)\n",
      "Requirement already satisfied: huggingface-hub>=0.24.0 in /opt/anaconda3/envs/jupyter/lib/python3.13/site-packages (from datasets) (0.32.1)\n",
      "Requirement already satisfied: packaging in /opt/anaconda3/envs/jupyter/lib/python3.13/site-packages (from datasets) (24.2)\n",
      "Requirement already satisfied: pyyaml>=5.1 in /opt/anaconda3/envs/jupyter/lib/python3.13/site-packages (from datasets) (6.0.2)\n",
      "Requirement already satisfied: aiohttp!=4.0.0a0,!=4.0.0a1 in /opt/anaconda3/envs/jupyter/lib/python3.13/site-packages (from fsspec[http]<=2025.3.0,>=2023.1.0->datasets) (3.12.1)\n",
      "Requirement already satisfied: aiohappyeyeballs>=2.5.0 in /opt/anaconda3/envs/jupyter/lib/python3.13/site-packages (from aiohttp!=4.0.0a0,!=4.0.0a1->fsspec[http]<=2025.3.0,>=2023.1.0->datasets) (2.6.1)\n",
      "Requirement already satisfied: aiosignal>=1.1.2 in /opt/anaconda3/envs/jupyter/lib/python3.13/site-packages (from aiohttp!=4.0.0a0,!=4.0.0a1->fsspec[http]<=2025.3.0,>=2023.1.0->datasets) (1.3.2)\n",
      "Requirement already satisfied: attrs>=17.3.0 in /opt/anaconda3/envs/jupyter/lib/python3.13/site-packages (from aiohttp!=4.0.0a0,!=4.0.0a1->fsspec[http]<=2025.3.0,>=2023.1.0->datasets) (24.3.0)\n",
      "Requirement already satisfied: frozenlist>=1.1.1 in /opt/anaconda3/envs/jupyter/lib/python3.13/site-packages (from aiohttp!=4.0.0a0,!=4.0.0a1->fsspec[http]<=2025.3.0,>=2023.1.0->datasets) (1.6.0)\n",
      "Requirement already satisfied: multidict<7.0,>=4.5 in /opt/anaconda3/envs/jupyter/lib/python3.13/site-packages (from aiohttp!=4.0.0a0,!=4.0.0a1->fsspec[http]<=2025.3.0,>=2023.1.0->datasets) (6.4.4)\n",
      "Requirement already satisfied: propcache>=0.2.0 in /opt/anaconda3/envs/jupyter/lib/python3.13/site-packages (from aiohttp!=4.0.0a0,!=4.0.0a1->fsspec[http]<=2025.3.0,>=2023.1.0->datasets) (0.3.1)\n",
      "Requirement already satisfied: yarl<2.0,>=1.17.0 in /opt/anaconda3/envs/jupyter/lib/python3.13/site-packages (from aiohttp!=4.0.0a0,!=4.0.0a1->fsspec[http]<=2025.3.0,>=2023.1.0->datasets) (1.20.0)\n",
      "Requirement already satisfied: idna>=2.0 in /opt/anaconda3/envs/jupyter/lib/python3.13/site-packages (from yarl<2.0,>=1.17.0->aiohttp!=4.0.0a0,!=4.0.0a1->fsspec[http]<=2025.3.0,>=2023.1.0->datasets) (3.7)\n",
      "Requirement already satisfied: typing-extensions>=3.7.4.3 in /opt/anaconda3/envs/jupyter/lib/python3.13/site-packages (from huggingface-hub>=0.24.0->datasets) (4.12.2)\n",
      "Requirement already satisfied: hf-xet<2.0.0,>=1.1.2 in /opt/anaconda3/envs/jupyter/lib/python3.13/site-packages (from huggingface-hub>=0.24.0->datasets) (1.1.2)\n",
      "Requirement already satisfied: charset-normalizer<4,>=2 in /opt/anaconda3/envs/jupyter/lib/python3.13/site-packages (from requests>=2.32.2->datasets) (3.3.2)\n",
      "Requirement already satisfied: urllib3<3,>=1.21.1 in /opt/anaconda3/envs/jupyter/lib/python3.13/site-packages (from requests>=2.32.2->datasets) (2.3.0)\n",
      "Requirement already satisfied: certifi>=2017.4.17 in /opt/anaconda3/envs/jupyter/lib/python3.13/site-packages (from requests>=2.32.2->datasets) (2025.4.26)\n",
      "Requirement already satisfied: python-dateutil>=2.8.2 in /opt/anaconda3/envs/jupyter/lib/python3.13/site-packages (from pandas->datasets) (2.9.0.post0)\n",
      "Requirement already satisfied: pytz>=2020.1 in /opt/anaconda3/envs/jupyter/lib/python3.13/site-packages (from pandas->datasets) (2025.2)\n",
      "Requirement already satisfied: tzdata>=2022.7 in /opt/anaconda3/envs/jupyter/lib/python3.13/site-packages (from pandas->datasets) (2025.2)\n",
      "Requirement already satisfied: six>=1.5 in /opt/anaconda3/envs/jupyter/lib/python3.13/site-packages (from python-dateutil>=2.8.2->pandas->datasets) (1.17.0)\n",
      "Requirement already satisfied: matplotlib in /opt/anaconda3/envs/jupyter/lib/python3.13/site-packages (3.10.3)\n",
      "Requirement already satisfied: contourpy>=1.0.1 in /opt/anaconda3/envs/jupyter/lib/python3.13/site-packages (from matplotlib) (1.3.2)\n",
      "Requirement already satisfied: cycler>=0.10 in /opt/anaconda3/envs/jupyter/lib/python3.13/site-packages (from matplotlib) (0.12.1)\n",
      "Requirement already satisfied: fonttools>=4.22.0 in /opt/anaconda3/envs/jupyter/lib/python3.13/site-packages (from matplotlib) (4.58.0)\n",
      "Requirement already satisfied: kiwisolver>=1.3.1 in /opt/anaconda3/envs/jupyter/lib/python3.13/site-packages (from matplotlib) (1.4.8)\n",
      "Requirement already satisfied: numpy>=1.23 in /opt/anaconda3/envs/jupyter/lib/python3.13/site-packages (from matplotlib) (2.2.6)\n",
      "Requirement already satisfied: packaging>=20.0 in /opt/anaconda3/envs/jupyter/lib/python3.13/site-packages (from matplotlib) (24.2)\n",
      "Requirement already satisfied: pillow>=8 in /opt/anaconda3/envs/jupyter/lib/python3.13/site-packages (from matplotlib) (11.2.1)\n",
      "Requirement already satisfied: pyparsing>=2.3.1 in /opt/anaconda3/envs/jupyter/lib/python3.13/site-packages (from matplotlib) (3.2.3)\n",
      "Requirement already satisfied: python-dateutil>=2.7 in /opt/anaconda3/envs/jupyter/lib/python3.13/site-packages (from matplotlib) (2.9.0.post0)\n",
      "Requirement already satisfied: six>=1.5 in /opt/anaconda3/envs/jupyter/lib/python3.13/site-packages (from python-dateutil>=2.7->matplotlib) (1.17.0)\n"
     ]
    }
   ],
   "source": [
    "! pip install torch torchvision\n",
    "! pip install datasets\n",
    "! python -m pip install -U matplotlib"
   ]
  },
  {
   "cell_type": "markdown",
   "id": "20ea7f06",
   "metadata": {},
   "source": [
    "<h1> Ch 4 - How Neural Networks Work </h1>"
   ]
  },
  {
   "cell_type": "markdown",
   "id": "fc05b40b",
   "metadata": {},
   "source": [
    "<h2> Exploration and Learning about Tensors </h2>"
   ]
  },
  {
   "cell_type": "markdown",
   "id": "bb134ecb",
   "metadata": {},
   "source": [
    "<h4>Tensors</h4>\n",
    "\n",
    "A Tensor is the data type that PyTorch (and most deep-learning libraries). \n",
    "\n",
    "I don't really understand the complete mathematics of these tensors, but I will try to explain at the most basic level.  \n",
    "\n",
    "Tensors are algebraic objects. "
   ]
  },
  {
   "cell_type": "markdown",
   "id": "b1f834ad",
   "metadata": {},
   "source": [
    "<h4> Exploration of our dataset and its structure </h4>\n",
    "\n",
    "We will be exploring our dataset that we have downloaded from the datasts API used by Hugging Face. We want to understand how a ```DatasetDict``` works. This will not be the dataset that we will use later, but this is a little too late. \n",
    "\n",
    "Here is the link to the dataset: [link] (https://huggingface.co/datasets/ylecun/mnist)\n",
    "\n"
   ]
  },
  {
   "cell_type": "code",
   "execution_count": null,
   "id": "9c543e99",
   "metadata": {},
   "outputs": [
    {
     "data": {
      "text/plain": [
       "DatasetDict({\n",
       "    train: Dataset({\n",
       "        features: ['image', 'label'],\n",
       "        num_rows: 60000\n",
       "    })\n",
       "    test: Dataset({\n",
       "        features: ['image', 'label'],\n",
       "        num_rows: 10000\n",
       "    })\n",
       "})"
      ]
     },
     "execution_count": 397,
     "metadata": {},
     "output_type": "execute_result"
    }
   ],
   "source": [
    "from datasets import load_dataset\n",
    "\n",
    "ds = load_dataset(\"ylecun/mnist\")\n",
    "ds"
   ]
  },
  {
   "cell_type": "code",
   "execution_count": 13,
   "id": "1bcbc46c",
   "metadata": {},
   "outputs": [
    {
     "data": {
      "text/plain": [
       "Dataset({\n",
       "    features: ['image', 'label'],\n",
       "    num_rows: 60000\n",
       "})"
      ]
     },
     "execution_count": 13,
     "metadata": {},
     "output_type": "execute_result"
    }
   ],
   "source": [
    "test_set = ds.get(\"test\")\n",
    "\n",
    "train_dict = ds.get(\"train\")\n",
    "train_dict"
   ]
  },
  {
   "cell_type": "code",
   "execution_count": 14,
   "id": "01dc4d84",
   "metadata": {},
   "outputs": [
    {
     "data": {
      "text/plain": [
       "{'image': <PIL.PngImagePlugin.PngImageFile image mode=L size=28x28>,\n",
       " 'label': 5}"
      ]
     },
     "execution_count": 14,
     "metadata": {},
     "output_type": "execute_result"
    }
   ],
   "source": [
    "test_obj = train_dict[0]\n",
    "test_obj"
   ]
  },
  {
   "cell_type": "code",
   "execution_count": 400,
   "id": "53bf8ceb",
   "metadata": {},
   "outputs": [
    {
     "data": {
      "image/jpeg": "[encoded data removed]",
      "image/png": "[encoded data removed]",
      "text/plain": [
       "<PIL.Image.Image image mode=L size=200x200>"
      ]
     },
     "execution_count": 400,
     "metadata": {},
     "output_type": "execute_result"
    }
   ],
   "source": [
    "from PIL import Image\n",
    "\n",
    "img = test_obj.get(\"image\")\n",
    "img.resize((200,200))"
   ]
  },
  {
   "cell_type": "markdown",
   "id": "52369641",
   "metadata": {},
   "source": [
    "<h4> Creating a validation set </h4>\n",
    "\n",
    "We need to split our training dataset in training and validation sets. This needs to be split randomly. We will use the ```np.random``` module from ```numpy```. We also need to transform our PIL images into PyTorch tensors. We do this by using the ```torchvision.transforms``` module. We will also normalize our data to make sure that our neural network can read each image correctly. The ```transforms.ToTensor()``` transformation makes pixels between 0 and 1. The normalized will standardize each pixel value. "
   ]
  },
  {
   "cell_type": "code",
   "execution_count": 315,
   "id": "50bf093e",
   "metadata": {},
   "outputs": [
    {
     "data": {
      "text/plain": [
       "array([[<PIL.PngImagePlugin.PngImageFile image mode=L size=28x28 at 0x470469D10>,\n",
       "        5],\n",
       "       [<PIL.PngImagePlugin.PngImageFile image mode=L size=28x28 at 0x47046B390>,\n",
       "        0],\n",
       "       [<PIL.PngImagePlugin.PngImageFile image mode=L size=28x28 at 0x47046B890>,\n",
       "        4],\n",
       "       [<PIL.PngImagePlugin.PngImageFile image mode=L size=28x28 at 0x47046B610>,\n",
       "        1]], dtype=object)"
      ]
     },
     "execution_count": 315,
     "metadata": {},
     "output_type": "execute_result"
    }
   ],
   "source": [
    "import torch\n",
    "import torchvision.transforms as transforms\n",
    "import numpy as np\n",
    "\n",
    "transform = transforms.Compose([transforms.ToTensor(), transforms.Normalize((0.1307,), (0.3081,))])\n",
    "\n",
    "rng = np.random.default_rng()\n",
    "\n",
    "train_vald_imgs_arr = [item.get('image') for item in train_dict]\n",
    "train_vald_lbls_arr = [item.get('label') for item in train_dict]\n",
    "train_vald = list(zip(train_vald_imgs_arr, train_vald_lbls_arr))\n",
    "train_vald_arr = np.array(object = train_vald, dtype = tuple)\n",
    "train_vald_arr[0:4]"
   ]
  },
  {
   "cell_type": "code",
   "execution_count": 405,
   "id": "79b8848d",
   "metadata": {},
   "outputs": [],
   "source": [
    "def valid_split(arr, split = 0.2):\n",
    "    rng.shuffle(arr)\n",
    "    split_ix = int(split * len(arr))\n",
    "    return arr[0:split_ix], arr[split_ix:-1]\n",
    "\n",
    "training_set, validation_set = valid_split(train_vald_arr)\n",
    "\n",
    "training_img = torch.stack([transform(img_lbl_tpl[0]) for img_lbl_tpl in training_set]).view(-1, 28*28).float().requires_grad_()\n",
    "validation_img = torch.stack([transform(img_lbl_tpl[0]) for img_lbl_tpl in validation_set]).view(-1, 28*28).float().requires_grad_()\n",
    "\n",
    "training_lbls, validation_lbls = torch.tensor([img_lbl_tpl[1] for img_lbl_tpl in training_set]), torch.tensor([img_lbl_tpl[1] for img_lbl_tpl in validation_set])\n",
    "\n",
    "train = list(zip(training_img, training_lbls))\n",
    "valid = list(zip(validation_img, validation_lbls))"
   ]
  },
  {
   "cell_type": "code",
   "execution_count": 18,
   "id": "945b072f",
   "metadata": {},
   "outputs": [
    {
     "name": "stdout",
     "output_type": "stream",
     "text": [
      "The type of the first element of both sets are: train'<class 'tuple'>', valid'<class 'tuple'>'\n",
      "The first element of each is a tensor: train'<class 'torch.Tensor'>', valid '<class 'torch.Tensor'>'\n",
      "The second element of each tuple is an integer: train '<class 'torch.Tensor'>', valid '<class 'torch.Tensor'>'\n",
      "The shape of both tensors are: train 'torch.Size([12000, 784]), valid 'torch.Size([47999, 784])' \n"
     ]
    }
   ],
   "source": [
    "#Checking... #FerrariCore\n",
    "\n",
    "print(f\"The type of the first element of both sets are: train'{type(train[0])}', valid'{type(valid[0])}'\")\n",
    "print(f\"The first element of each is a tensor: train'{type(train[0][0])}', valid '{type(valid[0][0])}'\")\n",
    "print(f\"The second element of each tuple is an integer: train '{type(train[0][1])}', valid '{type(valid[0][1])}'\")\n",
    "print(f\"The shape of both tensors are: train '{training_img.shape}, valid '{validation_img.shape}' \")"
   ]
  },
  {
   "cell_type": "markdown",
   "id": "12c5f01e",
   "metadata": {},
   "source": [
    "<h2> Building Up The Neural Network  </h2>"
   ]
  },
  {
   "cell_type": "code",
   "execution_count": null,
   "id": "bcba57d0",
   "metadata": {},
   "outputs": [],
   "source": [
    "# Helper functions \n",
    "def init_params(size, std=1.0):\n",
    "    \"\"\"Initializes a random parameters for a given size of a PyTorch tensor\n",
    "    \n",
    "    SIZE: tuple --> gives the dimension of our tenso\n",
    "    STD: float --> allows us to shift our parameters somewhat. Also needed to make sure that our parameters are floats.\"\"\"\n",
    "    return (torch.randn(size) * std).requires_grad_()\n",
    "\n",
    "def first(dl):\n",
    "    return next(iter(dl))"
   ]
  },
  {
   "cell_type": "code",
   "execution_count": 20,
   "id": "aa898488",
   "metadata": {},
   "outputs": [],
   "source": [
    "#Initializing weights and biases\n",
    "weights = init_params((28*28,1))\n",
    "bias = init_params(1)"
   ]
  },
  {
   "cell_type": "code",
   "execution_count": null,
   "id": "493b6637",
   "metadata": {},
   "outputs": [
    {
     "data": {
      "text/plain": [
       "tensor([-1426.4187], grad_fn=<AddBackward0>)"
      ]
     },
     "execution_count": 21,
     "metadata": {},
     "output_type": "execute_result"
    }
   ],
   "source": [
    "#Calculating prediction for one image using a linear function\n",
    "(train[0][0] * weights.T).sum() + bias"
   ]
  },
  {
   "cell_type": "markdown",
   "id": "37a229da",
   "metadata": {},
   "source": [
    "Since we are going to do this process with all of our tensors, we will use matrix multiplication. In python, we denote this with the symbol ```@```. \n",
    "\n",
    "Remember matrix multiplication rules:\n",
    "\n",
    "For $A \\times B$ to make sense, we need:\n",
    "\n",
    "$$ A:[n \\times p]$$\n",
    "$$ B:[p \\times m]$$\n",
    "\n",
    "Thus, matrix $A$ needs to have the same number of columns as matrix $B$ has columns. "
   ]
  },
  {
   "cell_type": "code",
   "execution_count": null,
   "id": "c1e50057",
   "metadata": {},
   "outputs": [
    {
     "data": {
      "text/plain": [
       "tensor([[-1426.4186],\n",
       "        [-1572.5239],\n",
       "        [  108.1420],\n",
       "        ...,\n",
       "        [-1975.7198],\n",
       "        [ -128.0186],\n",
       "        [  787.5239]], grad_fn=<AddBackward0>)"
      ]
     },
     "execution_count": 22,
     "metadata": {},
     "output_type": "execute_result"
    }
   ],
   "source": [
    "def linear1(xb):\n",
    "    \"\"\"A linear function that uses matrix multiplication.\n",
    "    \n",
    "    XB: tensor --> our input tensor. Returns a tensor of the same rank as XB x  weights\"\"\"\n",
    "    return xb@weights + bias\n",
    "\n",
    "def mse(pred, targets):\n",
    "    return torch.mean((pred-targets)**2)\n",
    "\n",
    "preds = linear1(training_img)\n",
    "preds"
   ]
  },
  {
   "cell_type": "markdown",
   "id": "6d401907",
   "metadata": {},
   "source": [
    "We will use a PyTorch ```DataLoader``` to create batches. This is because we don't want to use every image for each loss calculation. This will allow us to get a more accurate and stable gradient calculation."
   ]
  },
  {
   "cell_type": "code",
   "execution_count": 23,
   "id": "d4080824",
   "metadata": {},
   "outputs": [
    {
     "data": {
      "text/plain": [
       "(torch.Size([256, 784]), torch.Size([256]))"
      ]
     },
     "execution_count": 23,
     "metadata": {},
     "output_type": "execute_result"
    }
   ],
   "source": [
    "from torch.utils.data import DataLoader \n",
    "\n",
    "train_dl = DataLoader(train, batch_size=256)\n",
    "input, target = first(train_dl)\n",
    "input.shape, target.shape"
   ]
  },
  {
   "cell_type": "code",
   "execution_count": 24,
   "id": "dca59420",
   "metadata": {},
   "outputs": [],
   "source": [
    "valid_dl = DataLoader(valid, batch_size=256)\n",
    "\n",
    "batch_img = training_img[0:4]\n",
    "batch_lbls = training_lbls[0:4]"
   ]
  },
  {
   "cell_type": "code",
   "execution_count": null,
   "id": "24205d8d",
   "metadata": {},
   "outputs": [
    {
     "data": {
      "text/plain": [
       "(tensor(-85387.0938), tensor([-2608.0566]))"
      ]
     },
     "execution_count": 25,
     "metadata": {},
     "output_type": "execute_result"
    }
   ],
   "source": [
    "# How to calculate gradients with PyTorch\n",
    "def calc_grad(x, target, model):\n",
    "    pred = model(x)\n",
    "    loss = mse(pred, target)\n",
    "    loss.backward()\n",
    "\n",
    "calc_grad(batch_img, batch_lbls, linear1)\n",
    "weights.grad.mean(), bias.grad"
   ]
  },
  {
   "cell_type": "code",
   "execution_count": null,
   "id": "e3e47ee5",
   "metadata": {},
   "outputs": [
    {
     "data": {
      "text/plain": [
       "tensor([0.])"
      ]
     },
     "execution_count": 26,
     "metadata": {},
     "output_type": "execute_result"
    }
   ],
   "source": [
    "# Re-initialize our parameter's gradients: PyTorch adds to the last calculated gradient\n",
    "weights.grad.zero_()\n",
    "bias.grad.zero_()"
   ]
  },
  {
   "cell_type": "markdown",
   "id": "7f3da816",
   "metadata": {},
   "source": [
    "<h4> Creating a Stochastic Gradient Descent (SGD) Optimizer </h4>\n",
    "\n",
    "SGD helps us minimize our loss function by updating our model. We start with random parameters for our model, calculate loss with this model, calculate the gradient, update our parameters in the opposite direction of our gradient. \n",
    "\n",
    "*Mathematically*\n",
    "\n",
    "Our loss function: $ \\text{Loss} = L(\\vec{x}) $\n",
    "\n",
    "Our model: $ \\text{Model}(I) = \\text{I} \\cdot \\text{Weights}^T +  \\text{bias} $ \n",
    "\n",
    "$$ \\nabla L = \\langle a_1, a_2, a_3, ... , a_n \\rangle$$\n",
    "\n",
    "**Stochastic Gradient Descent formula**\n",
    "\n",
    "*Update each parameter*\n",
    "$$ \\text{Weights} - \\nabla L$$\n",
    "$$ \\text{bias} - \\nabla L$$\n",
    "\n",
    "The stochastic part of the optimzer is the random initialization."
   ]
  },
  {
   "cell_type": "code",
   "execution_count": 32,
   "id": "139cbb25",
   "metadata": {},
   "outputs": [
    {
     "data": {
      "text/plain": [
       "(torch.Size([1, 784]), torch.Size([1]))"
      ]
     },
     "execution_count": 32,
     "metadata": {},
     "output_type": "execute_result"
    }
   ],
   "source": [
    "# linear model from pytorch modules\n",
    "import torch.nn as nn\n",
    "\n",
    "linear_model = nn.Linear(28*28,1)\n",
    "\n",
    "w,b = linear_model.parameters()\n",
    "w.shape, b.shape"
   ]
  },
  {
   "cell_type": "code",
   "execution_count": null,
   "id": "82225037",
   "metadata": {},
   "outputs": [],
   "source": [
    "#Creating a SGD optimizer\n",
    "\n",
    "class BasicOptim:\n",
    "    def __init__(self, params, lr):\n",
    "        self.params = list(params)\n",
    "        self.lr = lr\n",
    "\n",
    "    def step(self, *args, **kwargs):\n",
    "        for p in self.params: \n",
    "            p.data -= p.grad.data * self.lr\n",
    "    \n",
    "    def zero_grad(self, *args, **kwargs):\n",
    "        for p in self.params:\n",
    "            p.grad = None"
   ]
  },
  {
   "cell_type": "code",
   "execution_count": 406,
   "id": "00a2ef98",
   "metadata": {},
   "outputs": [],
   "source": [
    "learning_rate = 0.1\n",
    "opt = BasicOptim(linear_model.parameters(), learning_rate)"
   ]
  },
  {
   "cell_type": "code",
   "execution_count": 99,
   "id": "13a41847",
   "metadata": {},
   "outputs": [],
   "source": [
    "#simplified training loop using our optimzer\n",
    "def train_epoch(model):\n",
    "    for xb,yb in train_dl:\n",
    "        calc_grad(xb, yb, model)\n",
    "        opt.step()\n",
    "        opt.zero_grad()"
   ]
  },
  {
   "cell_type": "code",
   "execution_count": null,
   "id": "2e91f7e5",
   "metadata": {},
   "outputs": [],
   "source": [
    "validate_epoch = lambda model: \"0.43\"\n",
    "\n",
    "def train_model(model, epochs: int): \n",
    "    for _ in range(epochs):\n",
    "        train_epoch(model)\n",
    "        print(validate_epoch(model), end = ' ')"
   ]
  },
  {
   "cell_type": "code",
   "execution_count": 101,
   "id": "5e2ab648",
   "metadata": {},
   "outputs": [
    {
     "name": "stdout",
     "output_type": "stream",
     "text": [
      "0.0 0.0 0.0 0.0 0.0 0.0 0.0 0.0 0.0 0.0 0.0 0.0 0.0 0.0 0.0 0.0 0.0 0.0 0.0 0.0 "
     ]
    }
   ],
   "source": [
    "train_model(linear_model, 20)"
   ]
  },
  {
   "cell_type": "markdown",
   "id": "d27f1c20",
   "metadata": {},
   "source": [
    "<h4> The Neural Net </h4>\n",
    "\n",
    "The Neural Network is a layering of linear functions. We need to add a non-linearity (here the ReLU function) as a hidden layer to make sure that our subsequent layers can communicate with each other. This is also necessary for the *Universal Approximation Theorem* to hold. \n",
    "\n",
    "*Universal Approximation Theorem*\n",
    "\n",
    "For any continuous function $f : [0,1]^d \\rightarrow \\mathbb{R}$ and any $\\epsilon > 0 $, there exist a neural network with one hidden layer and a sufficient large number of hidden units $m$ which approximates $f$ on $[0,1]^d$ uniformly to within $\\epsilon$. \n",
    "\n",
    "We will call the hidden layer is called the activation function. "
   ]
  },
  {
   "cell_type": "code",
   "execution_count": null,
   "id": "2b71026b",
   "metadata": {},
   "outputs": [],
   "source": [
    "w1, b1, w2, b2 = init_params((28*28,30)), init_params(30), init_params((30,1)), init_params(1)\n",
    "\n",
    "def simple_net(xb):\n",
    "    res = xb@w1 + b1\n",
    "    res = res.max(torch.tensor(0.0)) # --> this is the non-linearity, the ReLU function\n",
    "    res = res@w2 + b2\n",
    "    return res"
   ]
  },
  {
   "cell_type": "code",
   "execution_count": 428,
   "id": "ff98334e",
   "metadata": {},
   "outputs": [
    {
     "data": {
      "image/png": "[encoded data removed]",
      "text/plain": [
       "<Figure size 640x480 with 1 Axes>"
      ]
     },
     "metadata": {},
     "output_type": "display_data"
    }
   ],
   "source": [
    "import matplotlib.pyplot as plt\n",
    "\n",
    "x = np.linspace(-2, 3, 6)\n",
    "y = np.maximum(0, x)\n",
    "\n",
    "ReLU = plt.plot(x, y)\n",
    "plt.setp(ReLU, color = 'navy')\n",
    "plt.xlabel(\"x\")\n",
    "plt.ylabel(\"ReLU(x)\")\n",
    "plt.title(\"ReLU Function Visualization\")\n",
    "plt.grid(True)\n",
    "plt.show()\n",
    "plt.style.use(\"tableau-colorblind10\")"
   ]
  },
  {
   "cell_type": "code",
   "execution_count": null,
   "id": "bd341c4b",
   "metadata": {},
   "outputs": [
    {
     "data": {
      "text/plain": [
       "(torch.Size([30, 784]), torch.Size([30]), torch.Size([1, 30]), torch.Size([1]))"
      ]
     },
     "execution_count": 43,
     "metadata": {},
     "output_type": "execute_result"
    }
   ],
   "source": [
    "#Using Pytorch modules --> preferred\n",
    "simple_net = nn.Sequential(\n",
    "    nn.Linear(28*28,30),\n",
    "    nn.ReLU(),\n",
    "    nn.Linear(30,1), \n",
    ")\n",
    "\n",
    "w1, b1, w2, b2 = simple_net.parameters()\n",
    "w1.shape, b1.shape, w2.shape, b2.shape"
   ]
  },
  {
   "cell_type": "markdown",
   "id": "ef625396",
   "metadata": {},
   "source": [
    "**Important notes**\n",
    "\n",
    "1. The output activations of w1 (the second parameter in the first linear function) needs to be the same as the input activations of w2. Here, we have 30 to make sure that our layer can construct 30 different features. We can change this number to make our model more or less complex.\n",
    "\n",
    "2. The simple neural network is our new model. It is our objective function! "
   ]
  },
  {
   "cell_type": "code",
   "execution_count": null,
   "id": "5c700672",
   "metadata": {},
   "outputs": [],
   "source": [
    "#more complicated neural net example - 4 Layers\n",
    "\n",
    "complex_net = nn.Sequential(\n",
    "    nn.Linear(28*28,30),\n",
    "    nn.ReLU(),\n",
    "    nn.Linear(30, 30),\n",
    "    nn.ReLU(),\n",
    "    nn.Linear(30,1)\n",
    ")"
   ]
  },
  {
   "cell_type": "markdown",
   "id": "e4bc97b5",
   "metadata": {},
   "source": [
    "<h2> Creating Our Own Implementation of The Learner Class </h2>"
   ]
  },
  {
   "cell_type": "code",
   "execution_count": 391,
   "id": "69620154",
   "metadata": {},
   "outputs": [],
   "source": [
    "class Learner:\n",
    "    def __init__(self, dataloaders, model, optimzer, loss, metrics):\n",
    "        self.train = dataloaders[0]\n",
    "        self.valid = dataloaders[1]\n",
    "        self.model = model\n",
    "        self.opt_type = optimzer\n",
    "        self.loss_fn = loss\n",
    "        self.metric_fn = metrics(self.valid)\n",
    "\n",
    "    def train_epoch(self, opt):\n",
    "            epoch_loss = np.array([])\n",
    "            for xb, yb in self.train:\n",
    "                opt.zero_grad()\n",
    "                logits = self.model(xb)\n",
    "                loss = self.loss_fn(logits, yb)\n",
    "                loss.backward()\n",
    "                epoch_loss = np.append(epoch_loss, loss.item())\n",
    "                opt.step()\n",
    "            return epoch_loss\n",
    "    \n",
    "    def fit(self, epochs:int, learning_rate):\n",
    "        validate_epoch = self.metric_fn\n",
    "        opt = self.opt_type(self.model, learning_rate)\n",
    "        for ep in range(epochs):\n",
    "            ep_mean_loss = np.mean(self.train_epoch(opt))\n",
    "            print(f\"Epoch #{ep} || Accuracy: {validate_epoch(self.model)} || Epoch Mean Loss: {ep_mean_loss}\")\n",
    "    \n",
    "    #hide\n",
    "    def __repr__(self):\n",
    "        return f\"Learner({(self.train, self.valid)}, {self.model}, {self.optimizer}, {self.loss}, {self.metrics})\"\n",
    "    \n",
    "    def __str__(self):\n",
    "         return (f\"\"\"<Learner for {self.model}: \\n  \n",
    "                        Optimizer: {self.optimizer.__name__} \\n\n",
    "                        Loss_func: {self.loss_fn.__name__} \\n\n",
    "                        Metrics: {self.metric_fn}\n",
    "                \"\"\")"
   ]
  },
  {
   "cell_type": "code",
   "execution_count": null,
   "id": "aa9ea15a",
   "metadata": {},
   "outputs": [],
   "source": [
    "#prepare our data using the torchvision datasets\n",
    "from torchvision import transforms, datasets\n",
    "from torch.utils.data import Dataset, random_split, DataLoader\n",
    "\n",
    "mnist_train = datasets.MNIST(\n",
    "    root=\".\", train=True, download=True,\n",
    "    transform=transforms.Compose([\n",
    "        transforms.ToTensor(),                \n",
    "        transforms.Normalize((0.1307,), (0.3081,))  \n",
    "    ])\n",
    ")\n",
    "\n",
    "mnist_test = datasets.MNIST(\n",
    "    root=\".\", train=False, download=True,\n",
    "    transform=transforms.Compose([\n",
    "        transforms.ToTensor(),                \n",
    "        transforms.Normalize((0.1307,), (0.3081,))  \n",
    "    ])\n",
    ")\n",
    "\n",
    "train_size = int(len(mnist_train)*0.8)\n",
    "val_size = int(len(mnist_train)*0.2)\n",
    "\n",
    "train_set, valid_set = random_split(mnist_train, [train_size, val_size])\n",
    "\n",
    "train_dl = DataLoader(train_set, batch_size=64, shuffle=True)\n",
    "valid_dl = DataLoader(valid_set, batch_size=64, shuffle=True)\n",
    "\n",
    "test = DataLoader(mnist_test, batch_size = 10, shuffle=True)"
   ]
  },
  {
   "cell_type": "code",
   "execution_count": null,
   "id": "2784565c",
   "metadata": {},
   "outputs": [],
   "source": [
    "#utils\n",
    "def inference(xb):\n",
    "    probs = torch.softmax(xb, dim=1)   \n",
    "    return probs.argmax(dim=1) \n",
    "\n",
    "@torch.no_grad()\n",
    "def metric_MNIST(xb, yb):\n",
    "    preds = inference(xb)\n",
    "    return (preds == yb).float().mean()\n",
    "\n",
    "def make_metrics_fn(metrics_fn):\n",
    "    def make_validate_epoch(validation_set):\n",
    "        @torch.no_grad()\n",
    "        def validate_epoch(model):\n",
    "            accuracy = [metrics_fn(model(xb), yb) for xb,yb in validation_set]\n",
    "            return round(torch.stack(accuracy).float().mean().item(), 4)\n",
    "        return validate_epoch\n",
    "    return make_validate_epoch\n",
    "\n",
    "mnist_metrics = make_metrics_fn(metric_MNIST)\n",
    "dataloaders = train_dl, valid_dl"
   ]
  },
  {
   "cell_type": "code",
   "execution_count": null,
   "id": "e76d3c8f",
   "metadata": {},
   "outputs": [],
   "source": [
    "#testing scripts\n",
    "from IPython.display import display\n",
    "\n",
    "transform_PIL = transforms.Compose([transforms.ToPILImage()])\n",
    "\n",
    "xb, yb = next(iter(test))\n",
    "\n",
    "def test_MNIST(model):\n",
    "    for i in range(len(xb)):\n",
    "        pred = inference(model(xb[i])).item()\n",
    "        target = yb[i].item()\n",
    "        print(f\"Our model predicted for the following input this: {pred}\")\n",
    "        display(transform_PIL(xb[i]).resize((150,150)))\n",
    "        if pred != target:\n",
    "            print(f\"It was actually {target} \\n\")\n",
    "        else:\n",
    "            print(f\"Correct! It was a {pred}\")"
   ]
  },
  {
   "cell_type": "code",
   "execution_count": 395,
   "id": "3f82feff",
   "metadata": {},
   "outputs": [],
   "source": [
    "simple_net = nn.Sequential(\n",
    "    nn.Flatten(), \n",
    "    nn.Linear(28*28, 128),\n",
    "    nn.ReLU(),\n",
    "    nn.Linear(128, 10)\n",
    ")"
   ]
  },
  {
   "cell_type": "code",
   "execution_count": 396,
   "id": "7f558365",
   "metadata": {},
   "outputs": [
    {
     "name": "stdout",
     "output_type": "stream",
     "text": [
      "Epoch #0 || Accuracy: 0.954 || Epoch Mean Loss: 0.2899290070583423\n",
      "Epoch #1 || Accuracy: 0.9586 || Epoch Mean Loss: 0.1279706464583675\n",
      "Epoch #2 || Accuracy: 0.9673 || Epoch Mean Loss: 0.08922972599727412\n",
      "Epoch #3 || Accuracy: 0.9673 || Epoch Mean Loss: 0.06773522248119115\n",
      "Epoch #4 || Accuracy: 0.973 || Epoch Mean Loss: 0.053258074833701055\n",
      "Epoch #5 || Accuracy: 0.9721 || Epoch Mean Loss: 0.043197303747447825\n",
      "Epoch #6 || Accuracy: 0.9738 || Epoch Mean Loss: 0.0344271691457058\n",
      "Epoch #7 || Accuracy: 0.9764 || Epoch Mean Loss: 0.027034978069365025\n",
      "Epoch #8 || Accuracy: 0.9744 || Epoch Mean Loss: 0.02197771639392401\n",
      "Epoch #9 || Accuracy: 0.9747 || Epoch Mean Loss: 0.017774942974870405\n",
      "Epoch #10 || Accuracy: 0.9781 || Epoch Mean Loss: 0.014322115782337884\n",
      "Epoch #11 || Accuracy: 0.9771 || Epoch Mean Loss: 0.01158492103376193\n",
      "Epoch #12 || Accuracy: 0.9763 || Epoch Mean Loss: 0.009573907433388134\n",
      "Epoch #13 || Accuracy: 0.9748 || Epoch Mean Loss: 0.007494971723606189\n",
      "Epoch #14 || Accuracy: 0.9768 || Epoch Mean Loss: 0.006429432350346664\n",
      "Epoch #15 || Accuracy: 0.9775 || Epoch Mean Loss: 0.0054922383278026244\n",
      "Epoch #16 || Accuracy: 0.9761 || Epoch Mean Loss: 0.00448736737583143\n",
      "Epoch #17 || Accuracy: 0.9772 || Epoch Mean Loss: 0.004010376142900592\n",
      "Epoch #18 || Accuracy: 0.9776 || Epoch Mean Loss: 0.0034269126700237395\n",
      "Epoch #19 || Accuracy: 0.9782 || Epoch Mean Loss: 0.0030164795476399983\n"
     ]
    }
   ],
   "source": [
    "def sgd(model, lr): \n",
    "    return torch.optim.SGD(model.parameters(), lr)\n",
    "\n",
    "simple_learn = Learner(dataloaders, simple_net, sgd, nn.CrossEntropyLoss(), mnist_metrics)\n",
    "simple_learn.fit(20, 0.1)"
   ]
  },
  {
   "cell_type": "code",
   "execution_count": null,
   "id": "4145a23a",
   "metadata": {},
   "outputs": [],
   "source": [
    "test_MNIST(simple_net)"
   ]
  },
  {
   "cell_type": "markdown",
   "id": "c9fbf628",
   "metadata": {},
   "source": [
    "<h4> Trying this on a more complex neural network (4 layers) </h4>"
   ]
  },
  {
   "cell_type": "code",
   "execution_count": 334,
   "id": "fb744d5a",
   "metadata": {},
   "outputs": [],
   "source": [
    "complex_net = nn.Sequential(\n",
    "    nn.Flatten(), \n",
    "    nn.Linear(28*28, 128),\n",
    "    nn.ReLU(),\n",
    "    nn.Linear(128, 256),\n",
    "    nn.ReLU(),\n",
    "    nn.Linear(256,10)\n",
    ")"
   ]
  },
  {
   "cell_type": "code",
   "execution_count": 336,
   "id": "14383f20",
   "metadata": {},
   "outputs": [
    {
     "name": "stdout",
     "output_type": "stream",
     "text": [
      "Epoch #0 || Accuracy: 0.9775\n",
      "Epoch #1 || Accuracy: 0.9771\n",
      "Epoch #2 || Accuracy: 0.9774\n",
      "Epoch #3 || Accuracy: 0.9776\n",
      "Epoch #4 || Accuracy: 0.9776\n",
      "Epoch #5 || Accuracy: 0.9775\n",
      "Epoch #6 || Accuracy: 0.9776\n",
      "Epoch #7 || Accuracy: 0.9773\n",
      "Epoch #8 || Accuracy: 0.9772\n",
      "Epoch #9 || Accuracy: 0.9776\n",
      "Epoch #10 || Accuracy: 0.9774\n",
      "Epoch #11 || Accuracy: 0.9773\n",
      "Epoch #12 || Accuracy: 0.9773\n",
      "Epoch #13 || Accuracy: 0.9772\n",
      "Epoch #14 || Accuracy: 0.9777\n",
      "Epoch #15 || Accuracy: 0.9776\n",
      "Epoch #16 || Accuracy: 0.9776\n",
      "Epoch #17 || Accuracy: 0.9776\n",
      "Epoch #18 || Accuracy: 0.9771\n",
      "Epoch #19 || Accuracy: 0.9776\n"
     ]
    }
   ],
   "source": [
    "complex_learn = Learner(dataloaders, complex_net, nn.CrossEntropyLoss(), metric_MNIST)\n",
    "complex_learn.fit(20, 0.1)"
   ]
  },
  {
   "cell_type": "code",
   "execution_count": 337,
   "id": "7adcd3f4",
   "metadata": {},
   "outputs": [
    {
     "name": "stdout",
     "output_type": "stream",
     "text": [
      "Our model predicted for the following input this: 6\n"
     ]
    },
    {
     "data": {
      "image/jpeg": "[encoded data removed]",
      "image/png": "[encoded data removed]",
      "text/plain": [
       "<PIL.Image.Image image mode=L size=200x200>"
      ]
     },
     "metadata": {},
     "output_type": "display_data"
    },
    {
     "name": "stdout",
     "output_type": "stream",
     "text": [
      "It was actually 6 \n",
      "\n",
      "Our model predicted for the following input this: 7\n"
     ]
    },
    {
     "data": {
      "image/jpeg": "[encoded data removed]",
      "image/png": "[encoded data removed]",
      "text/plain": [
       "<PIL.Image.Image image mode=L size=200x200>"
      ]
     },
     "metadata": {},
     "output_type": "display_data"
    },
    {
     "name": "stdout",
     "output_type": "stream",
     "text": [
      "It was actually 7 \n",
      "\n",
      "Our model predicted for the following input this: 7\n"
     ]
    },
    {
     "data": {
      "image/jpeg": "[encoded data removed]",
      "image/png": "[encoded data removed]",
      "text/plain": [
       "<PIL.Image.Image image mode=L size=200x200>"
      ]
     },
     "metadata": {},
     "output_type": "display_data"
    },
    {
     "name": "stdout",
     "output_type": "stream",
     "text": [
      "It was actually 7 \n",
      "\n",
      "Our model predicted for the following input this: 4\n"
     ]
    },
    {
     "data": {
      "image/jpeg": "[encoded data removed]",
      "image/png": "[encoded data removed]",
      "text/plain": [
       "<PIL.Image.Image image mode=L size=200x200>"
      ]
     },
     "metadata": {},
     "output_type": "display_data"
    },
    {
     "name": "stdout",
     "output_type": "stream",
     "text": [
      "It was actually 4 \n",
      "\n",
      "Our model predicted for the following input this: 4\n"
     ]
    },
    {
     "data": {
      "image/jpeg": "[encoded data removed]",
      "image/png": "[encoded data removed]",
      "text/plain": [
       "<PIL.Image.Image image mode=L size=200x200>"
      ]
     },
     "metadata": {},
     "output_type": "display_data"
    },
    {
     "name": "stdout",
     "output_type": "stream",
     "text": [
      "It was actually 4 \n",
      "\n",
      "Our model predicted for the following input this: 1\n"
     ]
    },
    {
     "data": {
      "image/jpeg": "[encoded data removed]",
      "image/png": "[encoded data removed]",
      "text/plain": [
       "<PIL.Image.Image image mode=L size=200x200>"
      ]
     },
     "metadata": {},
     "output_type": "display_data"
    },
    {
     "name": "stdout",
     "output_type": "stream",
     "text": [
      "It was actually 1 \n",
      "\n",
      "Our model predicted for the following input this: 5\n"
     ]
    },
    {
     "data": {
      "image/jpeg": "[encoded data removed]",
      "image/png": "[encoded data removed]",
      "text/plain": [
       "<PIL.Image.Image image mode=L size=200x200>"
      ]
     },
     "metadata": {},
     "output_type": "display_data"
    },
    {
     "name": "stdout",
     "output_type": "stream",
     "text": [
      "It was actually 5 \n",
      "\n",
      "Our model predicted for the following input this: 8\n"
     ]
    },
    {
     "data": {
      "image/jpeg": "[encoded data removed]",
      "image/png": "[encoded data removed]",
      "text/plain": [
       "<PIL.Image.Image image mode=L size=200x200>"
      ]
     },
     "metadata": {},
     "output_type": "display_data"
    },
    {
     "name": "stdout",
     "output_type": "stream",
     "text": [
      "It was actually 8 \n",
      "\n",
      "Our model predicted for the following input this: 4\n"
     ]
    },
    {
     "data": {
      "image/jpeg": "[encoded data removed]",
      "image/png": "[encoded data removed]",
      "text/plain": [
       "<PIL.Image.Image image mode=L size=200x200>"
      ]
     },
     "metadata": {},
     "output_type": "display_data"
    },
    {
     "name": "stdout",
     "output_type": "stream",
     "text": [
      "It was actually 4 \n",
      "\n",
      "Our model predicted for the following input this: 5\n"
     ]
    },
    {
     "data": {
      "image/jpeg": "[encoded data removed]",
      "image/png": "[encoded data removed]",
      "text/plain": [
       "<PIL.Image.Image image mode=L size=200x200>"
      ]
     },
     "metadata": {},
     "output_type": "display_data"
    },
    {
     "name": "stdout",
     "output_type": "stream",
     "text": [
      "It was actually 5 \n",
      "\n"
     ]
    }
   ],
   "source": [
    "test_MNIST(complex_net)"
   ]
  },
  {
   "cell_type": "code",
   "execution_count": null,
   "id": "c02c3678",
   "metadata": {},
   "outputs": [],
   "source": []
  }
 ],
 "metadata": {
  "kernelspec": {
   "display_name": "jupyter",
   "language": "python",
   "name": "python3"
  },
  "language_info": {
   "codemirror_mode": {
    "name": "ipython",
    "version": 3
   },
   "file_extension": ".py",
   "mimetype": "text/x-python",
   "name": "python",
   "nbconvert_exporter": "python",
   "pygments_lexer": "ipython3",
   "version": "3.13.2"
  }
 },
 "nbformat": 4,
 "nbformat_minor": 5
}
